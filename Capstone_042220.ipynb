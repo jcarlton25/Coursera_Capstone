{
 "cells": [
  {
   "cell_type": "markdown",
   "metadata": {},
   "source": [
    "# Coursera/IBM Applied Data Science Capstone Course // Final Project"
   ]
  },
  {
   "cell_type": "markdown",
   "metadata": {},
   "source": [
    "## An analysis of the top cities in North Carolina, USA\n",
    "#### ----------------------------------------------------------------------------"
   ]
  },
  {
   "cell_type": "markdown",
   "metadata": {},
   "source": [
    "## INTRODUCTION"
   ]
  },
  {
   "cell_type": "markdown",
   "metadata": {},
   "source": [
    "#### The question of where to live is a fairly new question in our culture. We have unprecented freedom of movement that prior generations could not comprehend. Even when roots are established by families today, great consideration goes into this decision. \n",
    "\n",
    "#### North Carolina (NC) cities such as Raleigh, Durham, and Charlotte often appear in lists of top places to live in the USA. \n",
    "#### ----------------------------------------------------------------------------"
   ]
  },
  {
   "cell_type": "markdown",
   "metadata": {},
   "source": [
    "## BUSINESS PROBLEM / AUDIENCE"
   ]
  },
  {
   "cell_type": "markdown",
   "metadata": {},
   "source": [
    "#### The key audience for this research is people who are considering a move to NC. \n",
    "\n",
    "#### Personally, I'm also interested in this analysis. Having lived in NC for almost ten years, I am looking forward to applying data science principles and location data to gain a better understanding of the key cities in the state. \n",
    "\n",
    "#### Questions to be answered in this project include: \n",
    "- Which cities have the most options for eating out (restaurants)? (both total number and per capita) \n",
    "- Which cities are the most educated-minded - with higher numbers of museums and libraries? \n",
    "- Which cities are the best for live music? \n",
    "- ...and more\n",
    "#### ----------------------------------------------------------------------------"
   ]
  },
  {
   "cell_type": "markdown",
   "metadata": {},
   "source": [
    "## DATA"
   ]
  },
  {
   "cell_type": "markdown",
   "metadata": {},
   "source": [
    "#### I will be using a few types of data in this analysis. \n",
    "\n",
    "#### The main cities I will be exploring include*: \n",
    "- Raleigh, NC\n",
    "- Charlotte, NC\n",
    "- Durham, NC\n",
    "- Hickory, NC \n",
    "- Chapel Hill, NC\n",
    "- Wilmington, NC\n",
    "- Asheville, NC\n",
    "- Boone, NC\n",
    "- Greensboro, NC\n",
    "- Winston-Salem, NC\n",
    "- New Bern, NC\n",
    "- Fayetteville, NC\n",
    "\n",
    "#### For these cities, I will need latitude, longitude, and population data to perform the analysis. \n",
    "\n",
    "##### *note: the cities were selected from a combination of personal experience and this article: \n",
    "##### https://www.tripstodiscover.com/coolest-cities-in-north-carolina/\n",
    "\n",
    "#### \n",
    "\n",
    "#### Foursquare location data will include a cross-section of total number of these types of venues: \n",
    "- Music venues\n",
    "- Restaurants \n",
    "- Museums\n",
    "- Coffee shops/cafes \n",
    "- Libraries\n",
    "- Churches\n",
    "- etc. (more will likely be discovered as I begin the project analysis)  \n",
    "\n",
    "#### Ratings data will also be included, to gain a better understanding of the quality of venue type, not just the sheer quantity. \n",
    "#### ----------------------------------------------------------------------------"
   ]
  }
 ],
 "metadata": {
  "kernelspec": {
   "display_name": "Python 3",
   "language": "python",
   "name": "python3"
  },
  "language_info": {
   "codemirror_mode": {
    "name": "ipython",
    "version": 3
   },
   "file_extension": ".py",
   "mimetype": "text/x-python",
   "name": "python",
   "nbconvert_exporter": "python",
   "pygments_lexer": "ipython3",
   "version": "3.7.6"
  }
 },
 "nbformat": 4,
 "nbformat_minor": 4
}
